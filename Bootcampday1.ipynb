{
  "nbformat": 4,
  "nbformat_minor": 0,
  "metadata": {
    "colab": {
      "name": "Bootcampday1.ipynb",
      "provenance": [],
      "collapsed_sections": [],
      "authorship_tag": "ABX9TyNlg3CBk0g2ihByehDE8QTv",
      "include_colab_link": true
    },
    "kernelspec": {
      "name": "python3",
      "display_name": "Python 3"
    },
    "language_info": {
      "name": "python"
    }
  },
  "cells": [
    {
      "cell_type": "markdown",
      "metadata": {
        "id": "view-in-github",
        "colab_type": "text"
      },
      "source": [
        "<a href=\"https://colab.research.google.com/github/SaiDheerajECE/Python-Boot-Camp-Indian-Services/blob/main/Bootcampday1.ipynb\" target=\"_parent\"><img src=\"https://colab.research.google.com/assets/colab-badge.svg\" alt=\"Open In Colab\"/></a>"
      ]
    },
    {
      "cell_type": "markdown",
      "metadata": {
        "id": "XLEu0VKRb7v0"
      },
      "source": [
        "**Assignment of 15th July 2021**"
      ]
    },
    {
      "cell_type": "markdown",
      "metadata": {
        "id": "p1UoRm9jUc48"
      },
      "source": [
        "**Annamacharya Institute Of Technology & Sciences, Rajampet -**\n",
        "My name is J.Sai Dheeraj."
      ]
    },
    {
      "cell_type": "markdown",
      "metadata": {
        "id": "aoSpjIveZJ0x"
      },
      "source": [
        "**SRMINDSRV-PYBTCP5938**"
      ]
    },
    {
      "cell_type": "code",
      "metadata": {
        "colab": {
          "base_uri": "https://localhost:8080/"
        },
        "id": "_rszQVNzXJkt",
        "outputId": "50c17d2c-1e45-48ea-bc8f-67686f599a53"
      },
      "source": [
        "a = 10\n",
        "print(\"{} is {}\".format(a,type(a)))\n",
        "a = 5.458\n",
        "print(\"{} is {}\".format(a,type(a)))\n",
        "a = 3+95j\n",
        "print(\"{} is {}\".format(a,type(a)))\n",
        "a = True\n",
        "print(\"{} is {}\".format(a,type(a)))\n",
        "a = \"Sai Dheeraj\"\n",
        "print(\"{} is {}\".format(a,type(a)))"
      ],
      "execution_count": null,
      "outputs": [
        {
          "output_type": "stream",
          "text": [
            "10 is <class 'int'>\n",
            "5.458 is <class 'float'>\n",
            "(3+95j) is <class 'complex'>\n",
            "True is <class 'bool'>\n",
            "Sai Dheeraj is <class 'str'>\n"
          ],
          "name": "stdout"
        }
      ]
    },
    {
      "cell_type": "code",
      "metadata": {
        "colab": {
          "base_uri": "https://localhost:8080/"
        },
        "id": "umVMsd7zcMju",
        "outputId": "b838b743-138d-492a-99ea-61d54582cca3"
      },
      "source": [
        "#Calculator\n",
        "b = int(input())\n",
        "c = int(input())\n",
        "print(\"The addition of two inputs are {}\".format(b + c))\n",
        "print(\"The subtraction of two inputs are {}\".format(b - c))\n",
        "print(\"The division of two inputs are {}\".format(b / c))\n",
        "print(\"The multiplication of two inputs are {}\".format(b * c))\n",
        "print(\"Raise b to the power of c is {}\".format(b ** c))\n",
        "print(\"The modulus of two inputs are {}\".format(b % c))"
      ],
      "execution_count": null,
      "outputs": [
        {
          "output_type": "stream",
          "text": [
            "2\n",
            "8\n",
            "The addition of two inputs are 10\n",
            "The subtraction of two inputs are -6\n",
            "The division of two inputs are 0.25\n",
            "The multiplication of two inputs are 16\n",
            "Raise b to the power of c is 256\n",
            "The modulus of two inputs are 2\n"
          ],
          "name": "stdout"
        }
      ]
    },
    {
      "cell_type": "code",
      "metadata": {
        "colab": {
          "base_uri": "https://localhost:8080/"
        },
        "id": "d-JMcjiZifVA",
        "outputId": "78015819-f6f4-4803-cedf-d16c80ece957"
      },
      "source": [
        "#Finding the Simple Intrest\n",
        "p = float(input())\n",
        "t = float(input())\n",
        "r = float(input())\n",
        "si = float((p * t * r)/100)\n",
        "print(\"Simple Intrest is {}\".format(si))"
      ],
      "execution_count": null,
      "outputs": [
        {
          "output_type": "stream",
          "text": [
            "50.25\n",
            "6\n",
            "985.524\n",
            "Simple Intrest is 2971.35486\n"
          ],
          "name": "stdout"
        }
      ]
    }
  ]
}