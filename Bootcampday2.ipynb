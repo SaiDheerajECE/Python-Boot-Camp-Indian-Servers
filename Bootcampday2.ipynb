{
  "nbformat": 4,
  "nbformat_minor": 0,
  "metadata": {
    "colab": {
      "name": "Bootcampday2.ipynb",
      "provenance": [],
      "collapsed_sections": [],
      "authorship_tag": "ABX9TyN5r5HLW3p0BpGphcBtF0DQ",
      "include_colab_link": true
    },
    "kernelspec": {
      "name": "python3",
      "display_name": "Python 3"
    },
    "language_info": {
      "name": "python"
    }
  },
  "cells": [
    {
      "cell_type": "markdown",
      "metadata": {
        "id": "view-in-github",
        "colab_type": "text"
      },
      "source": [
        "<a href=\"https://colab.research.google.com/github/SaiDheerajECE/Python-Boot-Camp-Indian-Services/blob/main/Bootcampday2.ipynb\" target=\"_parent\"><img src=\"https://colab.research.google.com/assets/colab-badge.svg\" alt=\"Open In Colab\"/></a>"
      ]
    },
    {
      "cell_type": "markdown",
      "metadata": {
        "id": "XLEu0VKRb7v0"
      },
      "source": [
        "**Assignment of 16th July 2021**"
      ]
    },
    {
      "cell_type": "markdown",
      "metadata": {
        "id": "p1UoRm9jUc48"
      },
      "source": [
        "**Annamacharya Institute Of Technology & Sciences, Rajampet -**\n",
        "My name is J.Sai Dheeraj."
      ]
    },
    {
      "cell_type": "markdown",
      "metadata": {
        "id": "aoSpjIveZJ0x"
      },
      "source": [
        "**SRMINDSRV-PYBTCP5938**"
      ]
    },
    {
      "cell_type": "code",
      "metadata": {
        "id": "87eJqWNajm97",
        "colab": {
          "base_uri": "https://localhost:8080/"
        },
        "outputId": "8d52037c-6b00-40a0-92b8-9257bf274da2"
      },
      "source": [
        "import math\n",
        "a = 45\n",
        "b = 2\n",
        "c = 5.55556482\n",
        "print(math.sin(a))\n",
        "print(math.ceil(a))\n",
        "print(math.copysign(a,b))\n",
        "print(math.fabs(b))\n",
        "print(math.factorial(a))\n",
        "print(math.floor(c))\n",
        "print(math.fmod(a,b))\n",
        "print(math.exp(a))\n",
        "print(math.log(a))\n",
        "print(math.log10(b))\n",
        "print(math.sqrt(a))\n",
        "print(math.cos(a))\n",
        "print(math.tan(a))\n",
        "print(math.pi)"
      ],
      "execution_count": 36,
      "outputs": [
        {
          "output_type": "stream",
          "text": [
            "0.8509035245341184\n",
            "45\n",
            "45.0\n",
            "2.0\n",
            "119622220865480194561963161495657715064383733760000000000\n",
            "5\n",
            "1.0\n",
            "3.4934271057485095e+19\n",
            "3.8066624897703196\n",
            "0.3010299956639812\n",
            "6.708203932499369\n",
            "0.5253219888177297\n",
            "1.6197751905438615\n",
            "3.141592653589793\n"
          ],
          "name": "stdout"
        }
      ]
    },
    {
      "cell_type": "code",
      "metadata": {
        "colab": {
          "base_uri": "https://localhost:8080/"
        },
        "id": "orBU5Bt7byTT",
        "outputId": "1dfb2ea7-8ec4-4c01-fa31-5f34f2b01432"
      },
      "source": [
        "a = \"Sai Dheeraj\"\n",
        "print(a)"
      ],
      "execution_count": 3,
      "outputs": [
        {
          "output_type": "stream",
          "text": [
            "Sai Dheeraj\n"
          ],
          "name": "stdout"
        }
      ]
    },
    {
      "cell_type": "code",
      "metadata": {
        "colab": {
          "base_uri": "https://localhost:8080/"
        },
        "id": "7PKiJo-McAt_",
        "outputId": "bfeeea8a-5239-4184-b1e2-e2ff97e8cbd9"
      },
      "source": [
        "a = \"Sai Dheeraj\"\n",
        "print(a[0])"
      ],
      "execution_count": 5,
      "outputs": [
        {
          "output_type": "stream",
          "text": [
            "S\n"
          ],
          "name": "stdout"
        }
      ]
    },
    {
      "cell_type": "code",
      "metadata": {
        "colab": {
          "base_uri": "https://localhost:8080/"
        },
        "id": "gmcpQ5p1c3GJ",
        "outputId": "2d1dff39-fe44-4ed8-c8d7-b0819fc69cc8"
      },
      "source": [
        "a = \"Sai Dheeraj\"\n",
        "print(a[-1])"
      ],
      "execution_count": 6,
      "outputs": [
        {
          "output_type": "stream",
          "text": [
            "j\n"
          ],
          "name": "stdout"
        }
      ]
    },
    {
      "cell_type": "code",
      "metadata": {
        "colab": {
          "base_uri": "https://localhost:8080/"
        },
        "id": "60atS8Xac9Xz",
        "outputId": "a5ed8703-7493-4884-b0d0-d1b8e472419c"
      },
      "source": [
        "a = \"Sai Dheeraj\"\n",
        "print(a[0:])"
      ],
      "execution_count": 7,
      "outputs": [
        {
          "output_type": "stream",
          "text": [
            "Sai Dheeraj\n"
          ],
          "name": "stdout"
        }
      ]
    },
    {
      "cell_type": "code",
      "metadata": {
        "colab": {
          "base_uri": "https://localhost:8080/"
        },
        "id": "fRq9SOJrdOjO",
        "outputId": "e16e6cbf-258d-49e0-83fd-97667b8fa68d"
      },
      "source": [
        "a = \"Sai Dheeraj\"\n",
        "print(a[::-1])"
      ],
      "execution_count": 10,
      "outputs": [
        {
          "output_type": "stream",
          "text": [
            "jareehD iaS\n"
          ],
          "name": "stdout"
        }
      ]
    },
    {
      "cell_type": "code",
      "metadata": {
        "colab": {
          "base_uri": "https://localhost:8080/"
        },
        "id": "0qYnc4LGdXBO",
        "outputId": "c94c24bf-ec96-47a9-8769-e2a688a9f601"
      },
      "source": [
        "a = \"Sai Dheeraj\"\n",
        "print(a[5:-2])"
      ],
      "execution_count": 11,
      "outputs": [
        {
          "output_type": "stream",
          "text": [
            "heer\n"
          ],
          "name": "stdout"
        }
      ]
    },
    {
      "cell_type": "code",
      "metadata": {
        "colab": {
          "base_uri": "https://localhost:8080/"
        },
        "id": "OQcadLuTdhpJ",
        "outputId": "6cd3ee7c-976d-4626-f866-c3cbd73ffb58"
      },
      "source": [
        "a = \"Sai Dheeraj\"\n",
        "print(a[0:2:1])"
      ],
      "execution_count": 12,
      "outputs": [
        {
          "output_type": "stream",
          "text": [
            "Sa\n"
          ],
          "name": "stdout"
        }
      ]
    },
    {
      "cell_type": "markdown",
      "metadata": {
        "id": "xq3UHMO3jbzD"
      },
      "source": [
        "**String Functions**"
      ]
    },
    {
      "cell_type": "code",
      "metadata": {
        "colab": {
          "base_uri": "https://localhost:8080/"
        },
        "id": "mOXqHii3dx7J",
        "outputId": "59f640ee-c741-47d8-fc91-97e64db9a4ff"
      },
      "source": [
        "# Replace\n",
        "str=input()\n",
        "str=str.replace('A','$')\n",
        "print(str)"
      ],
      "execution_count": 30,
      "outputs": [
        {
          "output_type": "stream",
          "text": [
            "SAI DHEERAJ\n",
            "S$I DHEER$J\n"
          ],
          "name": "stdout"
        }
      ]
    },
    {
      "cell_type": "code",
      "metadata": {
        "colab": {
          "base_uri": "https://localhost:8080/"
        },
        "id": "KeGr-kopjq7c",
        "outputId": "216fda8e-4fb4-4bf3-c056-dee0b6e269e7"
      },
      "source": [
        "# Remove the nth Index Character from a Non-Empty String\n",
        "def remove(string, n): \n",
        "      first = string[:n]  \n",
        "      last = string[n+1:] \n",
        "      return first + last\n",
        "string=input()\n",
        "n=int(input())\n",
        "print(remove(string, n))"
      ],
      "execution_count": 31,
      "outputs": [
        {
          "output_type": "stream",
          "text": [
            "Hello\n",
            "3\n",
            "Helo\n"
          ],
          "name": "stdout"
        }
      ]
    },
    {
      "cell_type": "code",
      "metadata": {
        "colab": {
          "base_uri": "https://localhost:8080/"
        },
        "id": "UjqV2nwgkMue",
        "outputId": "fa2d1ffe-a8c7-40cb-9ea6-5306aba44d96"
      },
      "source": [
        "# Replace Every Blank Space with Hyphen\n",
        "str=input()\n",
        "str=str.replace(' ','-')\n",
        "print(str)"
      ],
      "execution_count": 32,
      "outputs": [
        {
          "output_type": "stream",
          "text": [
            "SAI DHEERAJ 8 3 4 1 2 4 2 6 7 8\n",
            "SAI-DHEERAJ-8-3-4-1-2-4-2-6-7-8\n"
          ],
          "name": "stdout"
        }
      ]
    },
    {
      "cell_type": "code",
      "metadata": {
        "colab": {
          "base_uri": "https://localhost:8080/"
        },
        "id": "uORez4WDklF-",
        "outputId": "0b82eefe-c16f-4d18-c55e-ab68f5c1f451"
      },
      "source": [
        "#Check if a String is a Pangram or Not\n",
        "from string import ascii_lowercase as asc_lower\n",
        "def check(s):\n",
        "    return set(asc_lower) - set(s.lower()) == set([])\n",
        "strng=input()\n",
        "if(check(strng)==True):\n",
        "      print(\"pangram\")\n",
        "else:\n",
        "      print(\"Not pangram\")"
      ],
      "execution_count": 33,
      "outputs": [
        {
          "output_type": "stream",
          "text": [
            "MADAM\n",
            "Not pangram\n"
          ],
          "name": "stdout"
        }
      ]
    },
    {
      "cell_type": "code",
      "metadata": {
        "colab": {
          "base_uri": "https://localhost:8080/"
        },
        "id": "RLmvVv1RlDrV",
        "outputId": "3c9cc3f7-2b42-402e-c44b-ce5211fd40b6"
      },
      "source": [
        "# Calculate the Number of Digits and Letters in a String\n",
        "s = input()\n",
        "d=l=0\n",
        "for c in s:\n",
        "    if c.isdigit():\n",
        "        d=d+1\n",
        "    elif c.isalpha():\n",
        "        l=l+1\n",
        "    else:\n",
        "        pass\n",
        "print(d)\n",
        "print(l+d)"
      ],
      "execution_count": 34,
      "outputs": [
        {
          "output_type": "stream",
          "text": [
            "HELLO1232JJKJ\n",
            "4\n",
            "13\n"
          ],
          "name": "stdout"
        }
      ]
    },
    {
      "cell_type": "code",
      "metadata": {
        "colab": {
          "base_uri": "https://localhost:8080/"
        },
        "id": "milC9Tu9lTnb",
        "outputId": "aec2410f-5059-4aa0-fb6d-9944aa6a813c"
      },
      "source": [
        "# COMPARE TWO NUMBERS\n",
        "x=int(input())\n",
        "y=int(input())\n",
        "if(x==y):\n",
        "               print(\"{} and {} are equal\".format(x,y))\n",
        "elif x>y:\n",
        "               print(\"{} greater than {}\".format(x,y))\n",
        "else:\n",
        "               print(\"{} less than {}\".format(x,y))"
      ],
      "execution_count": 35,
      "outputs": [
        {
          "output_type": "stream",
          "text": [
            "78\n",
            "100\n",
            "78 less than 100\n"
          ],
          "name": "stdout"
        }
      ]
    }
  ]
}